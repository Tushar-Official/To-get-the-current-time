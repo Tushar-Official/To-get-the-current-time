{
 "cells": [
  {
   "cell_type": "code",
   "execution_count": null,
   "metadata": {},
   "outputs": [],
   "source": [
    "from datetime import *\n",
    "import pytz \n",
    "  \n",
    "  \n",
    "tz_INDIA = pytz.timezone('Asia/Kolkata')  \n",
    "datetime_INDIA = datetime.now(tz_INDIA) \n",
    "print(\"INDIA time:\", datetime_INDIA.strftime(\"%H:%M:%S\"))"
   ]
  }
 ],
 "metadata": {
  "kernelspec": {
   "display_name": "Python 3",
   "language": "python",
   "name": "python3"
  },
  "language_info": {
   "codemirror_mode": {
    "name": "ipython",
    "version": 3
   },
   "file_extension": ".py",
   "mimetype": "text/x-python",
   "name": "python",
   "nbconvert_exporter": "python",
   "pygments_lexer": "ipython3",
   "version": "3.7.6"
  }
 },
 "nbformat": 4,
 "nbformat_minor": 4
}
